{
 "cells": [
  {
   "cell_type": "code",
   "execution_count": 1,
   "metadata": {},
   "outputs": [],
   "source": [
    "from PIL import Image\n",
    "import face_recognition\n",
    "from imutils import paths"
   ]
  },
  {
   "cell_type": "markdown",
   "metadata": {},
   "source": [
    "Get the folder with all the images to create the dataset"
   ]
  },
  {
   "cell_type": "code",
   "execution_count": 2,
   "metadata": {},
   "outputs": [],
   "source": [
    "num_faces = 0\n",
    "image_paths = list(paths.list_images(\"social_app/mirandakerr/\")) # load all the images from the test set"
   ]
  },
  {
   "cell_type": "code",
   "execution_count": 3,
   "metadata": {},
   "outputs": [
    {
     "name": "stdout",
     "output_type": "stream",
     "text": [
      "images:  30\n"
     ]
    }
   ],
   "source": [
    "print(\"images: \", len(image_paths)) # list the number of images"
   ]
  },
  {
   "cell_type": "code",
   "execution_count": null,
   "metadata": {},
   "outputs": [
    {
     "name": "stdout",
     "output_type": "stream",
     "text": [
      "processing image 1/30: social_app/mirandakerr/11428694_1601769410084895_603684605_a.jpg\n",
      "HOG => I found 0 face(s) in this photograph.\n",
      "CNN => I found 1 face(s) in this photograph. \n",
      "\n",
      "A face is located at pixel location Top: 50, Left: 20, Bottom: 98, Right: 68\n",
      "processing image 2/30: social_app/mirandakerr/28157647_190995831663200_7192653053391011840_n.jpg\n",
      "HOG => I found 0 face(s) in this photograph.\n",
      "CNN => I found 0 face(s) in this photograph. \n",
      "\n",
      "processing image 3/30: social_app/mirandakerr/28427451_152233998924776_2169938110685642752_n.jpg\n",
      "HOG => I found 1 face(s) in this photograph.\n",
      "A face is located at pixel location Top: 46, Left: 50, Bottom: 89, Right: 93\n",
      "processing image 4/30: social_app/mirandakerr/30856109_594549537583963_704714600385347584_n.jpg\n",
      "HOG => I found 0 face(s) in this photograph.\n",
      "CNN => I found 0 face(s) in this photograph. \n",
      "\n",
      "processing image 5/30: social_app/mirandakerr/36113694_1833101860332300_6003364158018420736_n.jpg\n",
      "HOG => I found 1 face(s) in this photograph.\n",
      "A face is located at pixel location Top: 46, Left: 52, Bottom: 108, Right: 114\n",
      "processing image 6/30: social_app/mirandakerr/36915558_894808653976880_19925658956201984_n.jpg\n",
      "HOG => I found 1 face(s) in this photograph.\n",
      "A face is located at pixel location Top: 39, Left: 59, Bottom: 101, Right: 121\n",
      "processing image 7/30: social_app/mirandakerr/37592487_301903137033161_1208270039480795136_n.jpg\n",
      "HOG => I found 0 face(s) in this photograph.\n",
      "CNN => I found 0 face(s) in this photograph. \n",
      "\n",
      "processing image 8/30: social_app/mirandakerr/37592834_991108361048577_757538403158851584_n.jpg\n",
      "HOG => I found 0 face(s) in this photograph.\n",
      "CNN => I found 0 face(s) in this photograph. \n",
      "\n",
      "processing image 9/30: social_app/mirandakerr/37685511_420200895168413_1486606726537936896_n.jpg\n",
      "HOG => I found 0 face(s) in this photograph.\n",
      "CNN => I found 0 face(s) in this photograph. \n",
      "\n",
      "processing image 10/30: social_app/mirandakerr/37778738_288539395030603_2547414119087079424_n.jpg\n",
      "HOG => I found 0 face(s) in this photograph.\n",
      "CNN => I found 0 face(s) in this photograph. \n",
      "\n",
      "processing image 11/30: social_app/mirandakerr/37804370_271746890295106_4854766113520615424_n.jpg\n",
      "HOG => I found 1 face(s) in this photograph.\n",
      "A face is located at pixel location Top: 46, Left: 24, Bottom: 108, Right: 87\n",
      "processing image 12/30: social_app/mirandakerr/37819167_1823610807726490_949088966693355520_n.jpg\n",
      "HOG => I found 0 face(s) in this photograph.\n",
      "CNN => I found 1 face(s) in this photograph. \n",
      "\n",
      "A face is located at pixel location Top: 12, Left: 65, Bottom: 81, Right: 133\n",
      "processing image 13/30: social_app/mirandakerr/37862059_907539766113869_8566962276517543936_n.jpg\n",
      "HOG => I found 0 face(s) in this photograph.\n",
      "CNN => I found 0 face(s) in this photograph. \n",
      "\n",
      "processing image 14/30: social_app/mirandakerr/37880192_248660145776360_4170268542672830464_n.jpg\n",
      "HOG => I found 0 face(s) in this photograph.\n",
      "CNN => I found 0 face(s) in this photograph. \n",
      "\n",
      "processing image 15/30: social_app/mirandakerr/37900198_273251346594844_8681541094757892096_n.jpg\n",
      "HOG => I found 2 face(s) in this photograph.\n",
      "A face is located at pixel location Top: 25, Left: 4, Bottom: 87, Right: 66\n",
      "A face is located at pixel location Top: 32, Left: 72, Bottom: 84, Right: 124\n",
      "processing image 16/30: social_app/mirandakerr/38007424_1284320548371153_3841507157149220864_n.jpg\n",
      "HOG => I found 0 face(s) in this photograph.\n",
      "CNN => I found 0 face(s) in this photograph. \n",
      "\n",
      "processing image 17/30: social_app/mirandakerr/38059707_2330640163822414_2124409009216684032_n.jpg\n",
      "HOG => I found 0 face(s) in this photograph.\n",
      "CNN => I found 0 face(s) in this photograph. \n",
      "\n",
      "processing image 18/30: social_app/mirandakerr/38097386_338053000067556_2949588341219131392_n.jpg\n",
      "HOG => I found 0 face(s) in this photograph.\n",
      "CNN => I found 0 face(s) in this photograph. \n",
      "\n",
      "processing image 19/30: social_app/mirandakerr/38184082_274880106577608_169512850115526656_n.jpg\n",
      "HOG => I found 2 face(s) in this photograph.\n",
      "A face is located at pixel location Top: 73, Left: 52, Bottom: 135, Right: 114\n",
      "A face is located at pixel location Top: 0, Left: 93, Bottom: 41, Right: 136\n",
      "processing image 20/30: social_app/mirandakerr/38295541_224298968233649_823911225728434176_n.jpg\n",
      "HOG => I found 0 face(s) in this photograph.\n",
      "CNN => I found 0 face(s) in this photograph. \n",
      "\n",
      "processing image 21/30: social_app/mirandakerr/38472116_2146193122307989_2842863978781081600_n.jpg\n",
      "HOG => I found 1 face(s) in this photograph.\n",
      "A face is located at pixel location Top: 5, Left: 46, Bottom: 80, Right: 121\n",
      "processing image 22/30: social_app/mirandakerr/38618452_233646320630054_1239692956521201664_n.jpg\n",
      "HOG => I found 0 face(s) in this photograph.\n",
      "CNN => I found 0 face(s) in this photograph. \n",
      "\n",
      "processing image 23/30: social_app/mirandakerr/39995666_236530543632101_1951766257518772224_n.jpg\n",
      "HOG => I found 0 face(s) in this photograph.\n"
     ]
    }
   ],
   "source": [
    "count = 1\n",
    "for (i, image_path) in enumerate(image_paths):\n",
    "    print(\"processing image {}/{}: {}\".format(i+1, len(image_paths), image_path))\n",
    "    image = face_recognition.load_image_file(image_path)\n",
    "    # finding the location of faces in the image\n",
    "    face_locations = face_recognition.face_locations(image, number_of_times_to_upsample=1, model=\"hog\")\n",
    "    print(\"HOG => I found {} face(s) in this photograph.\".format(len(face_locations)))\n",
    "    \n",
    "    if len(face_locations) == 0: # If HOG fails to find image, use CNN to find images\n",
    "        face_locations = face_recognition.face_locations(image, number_of_times_to_upsample=1, model=\"cnn\") # extremely taxing on CPU, Use dlib CUDA if possible\n",
    "        print(\"CNN => I found {} face(s) in this photograph.\".format(len(face_locations)), \"\\n\")\n",
    "\n",
    "    for face_location in face_locations:\n",
    "        \n",
    "        # Print the location of each face in this image\n",
    "        top, right, bottom, left = face_location\n",
    "        print(\"A face is located at pixel location Top: {}, Left: {}, Bottom: {}, Right: {}\".format(top, left, bottom, right))\n",
    "\n",
    "        # You can access the actual face itself like this:\n",
    "        face_image = image[top:bottom, left:right]\n",
    "        pil_image = Image.fromarray(face_image)\n",
    "        pil_image.save(\"output/generated-image-{}.jpg\".format(count))\n",
    "        count += 1"
   ]
  },
  {
   "cell_type": "code",
   "execution_count": null,
   "metadata": {},
   "outputs": [],
   "source": []
  }
 ],
 "metadata": {
  "kernelspec": {
   "display_name": "Python 3",
   "language": "python",
   "name": "python3"
  },
  "language_info": {
   "codemirror_mode": {
    "name": "ipython",
    "version": 3
   },
   "file_extension": ".py",
   "mimetype": "text/x-python",
   "name": "python",
   "nbconvert_exporter": "python",
   "pygments_lexer": "ipython3",
   "version": "3.6.5"
  }
 },
 "nbformat": 4,
 "nbformat_minor": 2
}
