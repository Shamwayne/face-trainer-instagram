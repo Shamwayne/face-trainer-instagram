{
 "cells": [
  {
   "cell_type": "markdown",
   "metadata": {},
   "source": [
    "# Social Media Image Downloader\n",
    "\n",
    "### What is it?\n",
    "\n",
    "This is a script that downloads images from a social media account, be that facebook, instagram or twitter. The main purpose of this script though is to enable the downloading of a users social media account for personal use in training a face recognition model of them. Keep in mind though that this is still a naive implementation and doesn't factor in things such as crawler protection mechanisms, privacy settings by the user only permitting image viewing to followers/subscribers e.t.c"
   ]
  },
  {
   "cell_type": "code",
   "execution_count": 1,
   "metadata": {},
   "outputs": [],
   "source": [
    "import os\n",
    "from selenium import webdriver\n",
    "import base64\n",
    "import requests\n",
    "from io import open as iopen\n",
    "from urllib.parse import urlsplit"
   ]
  },
  {
   "cell_type": "code",
   "execution_count": 2,
   "metadata": {},
   "outputs": [],
   "source": [
    "# def base64_to_img(image_b64, filename):\n",
    "#     \"\"\" saves an html base64 image as an image in a certain path \"\"\"\n",
    "#     image_payload_raw = image_b64.split(\"base64,\")\n",
    "#     image_string = image_payload_raw[1]\n",
    "#     imgdata = base64.b64decode(image_string)\n",
    "#     with open(filename, 'wb') as f:\n",
    "#         f.write(imgdata)\n",
    "\n",
    "def requests_image(file_url, destination_folder):\n",
    "    suffix_list = ['jpg', 'gif', 'png', 'tif', 'svg',]\n",
    "    file_name =  urlsplit(file_url)[2].split('/')[-1]\n",
    "    file_suffix = file_name.split('.')[1]\n",
    "    i = requests.get(file_url)\n",
    "    file_path = destination_folder + file_name\n",
    "    print(file_name)\n",
    "    if file_suffix in suffix_list and i.status_code == requests.codes.ok:\n",
    "        with iopen(file_path, 'wb') as file:\n",
    "            file.write(i.content)\n",
    "    else:\n",
    "        return False\n",
    "        \n",
    "def create_save_path(file_path):\n",
    "    \"\"\" creates a directory to save files in if none exist \"\"\"\n",
    "    save_path = os.path.dirname(file_path)\n",
    "    if not os.path.exists(save_path):\n",
    "        os.makedirs(save_path)"
   ]
  },
  {
   "cell_type": "code",
   "execution_count": 3,
   "metadata": {},
   "outputs": [
    {
     "name": "stderr",
     "output_type": "stream",
     "text": [
      "C:\\Users\\W520\\Anaconda3\\lib\\site-packages\\selenium\\webdriver\\phantomjs\\webdriver.py:49: UserWarning: Selenium support for PhantomJS has been deprecated, please use headless versions of Chrome or Firefox instead\n",
      "  warnings.warn('Selenium support for PhantomJS has been deprecated, please use headless '\n"
     ]
    }
   ],
   "source": [
    "path_to_phantomjs = './social_app/webdriver/phantomjs.exe'\n",
    "browser = webdriver.PhantomJS(executable_path=path_to_phantomjs)"
   ]
  },
  {
   "cell_type": "code",
   "execution_count": 4,
   "metadata": {},
   "outputs": [],
   "source": [
    "browser.get(\"https://www.instagram.com/mirandakerr/\")"
   ]
  },
  {
   "cell_type": "code",
   "execution_count": 5,
   "metadata": {},
   "outputs": [],
   "source": [
    "main = browser.find_element_by_xpath(\"//main[@role='main']\")\n",
    "images = main.find_elements_by_tag_name(\"img\")"
   ]
  },
  {
   "cell_type": "code",
   "execution_count": 6,
   "metadata": {},
   "outputs": [
    {
     "name": "stdout",
     "output_type": "stream",
     "text": [
      "[<selenium.webdriver.remote.webelement.WebElement (session=\"eb259900-c63b-11e8-85f2-7de8024f1bda\", element=\":wdc:1538482139982\")>, <selenium.webdriver.remote.webelement.WebElement (session=\"eb259900-c63b-11e8-85f2-7de8024f1bda\", element=\":wdc:1538482139983\")>, <selenium.webdriver.remote.webelement.WebElement (session=\"eb259900-c63b-11e8-85f2-7de8024f1bda\", element=\":wdc:1538482139984\")>, <selenium.webdriver.remote.webelement.WebElement (session=\"eb259900-c63b-11e8-85f2-7de8024f1bda\", element=\":wdc:1538482139985\")>, <selenium.webdriver.remote.webelement.WebElement (session=\"eb259900-c63b-11e8-85f2-7de8024f1bda\", element=\":wdc:1538482139986\")>, <selenium.webdriver.remote.webelement.WebElement (session=\"eb259900-c63b-11e8-85f2-7de8024f1bda\", element=\":wdc:1538482139987\")>, <selenium.webdriver.remote.webelement.WebElement (session=\"eb259900-c63b-11e8-85f2-7de8024f1bda\", element=\":wdc:1538482139988\")>, <selenium.webdriver.remote.webelement.WebElement (session=\"eb259900-c63b-11e8-85f2-7de8024f1bda\", element=\":wdc:1538482139989\")>, <selenium.webdriver.remote.webelement.WebElement (session=\"eb259900-c63b-11e8-85f2-7de8024f1bda\", element=\":wdc:1538482139990\")>, <selenium.webdriver.remote.webelement.WebElement (session=\"eb259900-c63b-11e8-85f2-7de8024f1bda\", element=\":wdc:1538482139991\")>, <selenium.webdriver.remote.webelement.WebElement (session=\"eb259900-c63b-11e8-85f2-7de8024f1bda\", element=\":wdc:1538482139992\")>, <selenium.webdriver.remote.webelement.WebElement (session=\"eb259900-c63b-11e8-85f2-7de8024f1bda\", element=\":wdc:1538482139993\")>, <selenium.webdriver.remote.webelement.WebElement (session=\"eb259900-c63b-11e8-85f2-7de8024f1bda\", element=\":wdc:1538482139994\")>, <selenium.webdriver.remote.webelement.WebElement (session=\"eb259900-c63b-11e8-85f2-7de8024f1bda\", element=\":wdc:1538482139995\")>, <selenium.webdriver.remote.webelement.WebElement (session=\"eb259900-c63b-11e8-85f2-7de8024f1bda\", element=\":wdc:1538482139996\")>, <selenium.webdriver.remote.webelement.WebElement (session=\"eb259900-c63b-11e8-85f2-7de8024f1bda\", element=\":wdc:1538482139997\")>, <selenium.webdriver.remote.webelement.WebElement (session=\"eb259900-c63b-11e8-85f2-7de8024f1bda\", element=\":wdc:1538482139998\")>, <selenium.webdriver.remote.webelement.WebElement (session=\"eb259900-c63b-11e8-85f2-7de8024f1bda\", element=\":wdc:1538482139999\")>, <selenium.webdriver.remote.webelement.WebElement (session=\"eb259900-c63b-11e8-85f2-7de8024f1bda\", element=\":wdc:1538482140000\")>, <selenium.webdriver.remote.webelement.WebElement (session=\"eb259900-c63b-11e8-85f2-7de8024f1bda\", element=\":wdc:1538482140001\")>, <selenium.webdriver.remote.webelement.WebElement (session=\"eb259900-c63b-11e8-85f2-7de8024f1bda\", element=\":wdc:1538482140002\")>, <selenium.webdriver.remote.webelement.WebElement (session=\"eb259900-c63b-11e8-85f2-7de8024f1bda\", element=\":wdc:1538482140003\")>, <selenium.webdriver.remote.webelement.WebElement (session=\"eb259900-c63b-11e8-85f2-7de8024f1bda\", element=\":wdc:1538482140004\")>, <selenium.webdriver.remote.webelement.WebElement (session=\"eb259900-c63b-11e8-85f2-7de8024f1bda\", element=\":wdc:1538482140005\")>, <selenium.webdriver.remote.webelement.WebElement (session=\"eb259900-c63b-11e8-85f2-7de8024f1bda\", element=\":wdc:1538482140006\")>, <selenium.webdriver.remote.webelement.WebElement (session=\"eb259900-c63b-11e8-85f2-7de8024f1bda\", element=\":wdc:1538482140007\")>, <selenium.webdriver.remote.webelement.WebElement (session=\"eb259900-c63b-11e8-85f2-7de8024f1bda\", element=\":wdc:1538482140008\")>, <selenium.webdriver.remote.webelement.WebElement (session=\"eb259900-c63b-11e8-85f2-7de8024f1bda\", element=\":wdc:1538482140009\")>, <selenium.webdriver.remote.webelement.WebElement (session=\"eb259900-c63b-11e8-85f2-7de8024f1bda\", element=\":wdc:1538482140010\")>, <selenium.webdriver.remote.webelement.WebElement (session=\"eb259900-c63b-11e8-85f2-7de8024f1bda\", element=\":wdc:1538482140011\")>]\n"
     ]
    }
   ],
   "source": [
    "print(images)"
   ]
  },
  {
   "cell_type": "code",
   "execution_count": 7,
   "metadata": {},
   "outputs": [
    {
     "name": "stdout",
     "output_type": "stream",
     "text": [
      "['https://scontent-jnb1-1.cdninstagram.com/vp/8db476be2e6fae717bc6139aa7a3e41d/5C3BD111/t51.2885-19/11428694_1601769410084895_603684605_a.jpg', 'https://scontent-jnb1-1.cdninstagram.com/vp/8d8f098ce43f8e67b1f2b1fe8f5fcb70/5BB5CC50/t51.12442-15/e15/c57.330.662.662/s150x150/38472116_2146193122307989_2842863978781081600_n.jpg', 'https://scontent-jnb1-1.cdninstagram.com/vp/9d8a7b3b885cc7f111d2b73f612dadf0/5BB5BD0F/t51.12442-15/e15/c80.440.993.993/s150x150/36113694_1833101860332300_6003364158018420736_n.jpg', 'https://scontent-jnb1-1.cdninstagram.com/vp/e95b73d00c1362a5b4d99500ca68cc08/5BB57245/t51.12442-15/e35/c241.376.586.586/s150x150/30856109_594549537583963_704714600385347584_n.jpg', 'https://scontent-jnb1-1.cdninstagram.com/vp/3524ecff7a47a554b1ece2db9b1b9a99/5BB5C09D/t51.12442-15/e35/c0.322.828.828/s150x150/28427451_152233998924776_2169938110685642752_n.jpg', 'https://scontent-jnb1-1.cdninstagram.com/vp/560e449cbdbea36a8a5b05381b50401c/5BB59F0E/t51.12442-15/e35/c57.952.666.666/s150x150/28157647_190995831663200_7192653053391011840_n.jpg', 'https://scontent-jnb1-1.cdninstagram.com/vp/aee6d9a1c294bc84422d6f9c89379818/5C3DB849/t51.2885-15/e35/c0.135.1080.1080/s150x150/40857333_2114128155273350_3852573192593059070_n.jpg', 'https://scontent-jnb1-1.cdninstagram.com/vp/ed91d9903b20496c7a661bbcd163cf56/5C40C7CC/t51.2885-15/e35/c0.135.1080.1080/s150x150/41209575_333075437284322_4886950658244847958_n.jpg', 'https://scontent-jnb1-1.cdninstagram.com/vp/602781be489202831f672e07814afe8d/5C456659/t51.2885-15/e35/c0.35.1080.1080/s150x150/41151179_2127150017615600_4291171764799092066_n.jpg', 'https://scontent-jnb1-1.cdninstagram.com/vp/7f4220cd9689c85e17af64d94f85c57c/5C4B3040/t51.2885-15/e35/s150x150/40779515_2115776625141876_6589210733090921037_n.jpg', 'https://scontent-jnb1-1.cdninstagram.com/vp/f85cba1154a3bbb7027d6f1ceebc7de3/5C458531/t51.2885-15/e35/c180.0.719.719/s150x150/40720105_2254098408210359_445247838317923011_n.jpg', 'https://scontent-jnb1-1.cdninstagram.com/vp/466323cb97eec7c2d94f97f7ada97a1b/5C50EC99/t51.2885-15/e35/c0.135.1080.1080/s150x150/40459430_705203503150284_2109813894301089792_n.jpg', 'https://scontent-jnb1-1.cdninstagram.com/vp/36ba1afce7fca3561fc80d8a85e0e372/5C530148/t51.2885-15/e35/c0.135.1080.1080/s150x150/40448578_839156689623784_5567619118586134528_n.jpg', 'https://scontent-jnb1-1.cdninstagram.com/vp/57c97c9bcb1a672b7e263864f9fe8480/5C3EAAE1/t51.2885-15/e35/c0.135.1080.1080/s150x150/39995666_236530543632101_1951766257518772224_n.jpg', 'https://scontent-jnb1-1.cdninstagram.com/vp/404bcde64d88dc7b340504d3e43fb189/5C3CA923/t51.2885-15/e35/c0.135.1080.1080/s150x150/38618452_233646320630054_1239692956521201664_n.jpg', 'https://scontent-jnb1-1.cdninstagram.com/vp/39c7daca60080cdd9e1f4fcdce63571a/5BB5946B/t51.2885-15/e15/s150x150/37819167_1823610807726490_949088966693355520_n.jpg', 'https://scontent-jnb1-1.cdninstagram.com/vp/7ef1b14823733eb65b238a7526bcb74a/5C63374A/t51.2885-15/e35/s150x150/37900198_273251346594844_8681541094757892096_n.jpg', 'https://scontent-jnb1-1.cdninstagram.com/vp/82c334077318be311810c05a7c3b31be/5C3F6A9C/t51.2885-15/e35/s150x150/38097386_338053000067556_2949588341219131392_n.jpg', 'https://scontent-jnb1-1.cdninstagram.com/vp/ab38f0142a4a335b8662b254f0961d03/5C4DC11F/t51.2885-15/e35/s150x150/38295541_224298968233649_823911225728434176_n.jpg', 'https://scontent-jnb1-1.cdninstagram.com/vp/2598fe874c09a7b82580399bf6497df1/5C634A6B/t51.2885-15/e35/c0.135.1080.1080/s150x150/38007424_1284320548371153_3841507157149220864_n.jpg', 'https://scontent-jnb1-1.cdninstagram.com/vp/fe35f49341e6cc8b49f31d017c6f4dd2/5C520A62/t51.2885-15/e35/c0.135.1080.1080/s150x150/37778738_288539395030603_2547414119087079424_n.jpg', 'https://scontent-jnb1-1.cdninstagram.com/vp/2af8ab9cc21bc304d7638a77f8fa130e/5C5AEB81/t51.2885-15/e35/c0.135.1080.1080/s150x150/37862059_907539766113869_8566962276517543936_n.jpg', 'https://scontent-jnb1-1.cdninstagram.com/vp/b7bf3ee72b0b4acb9d6bfaa385fc3d4e/5C580654/t51.2885-15/e35/c0.135.1080.1080/s150x150/38184082_274880106577608_169512850115526656_n.jpg', 'https://scontent-jnb1-1.cdninstagram.com/vp/1ec26d9bc3fcb46f75041a3bc2a723d4/5C45F14A/t51.2885-15/e35/c0.135.1080.1080/s150x150/37685511_420200895168413_1486606726537936896_n.jpg', 'https://scontent-jnb1-1.cdninstagram.com/vp/1b47712dad0daa95f63e215441d66918/5C4BC929/t51.2885-15/e35/c0.135.1080.1080/s150x150/37592487_301903137033161_1208270039480795136_n.jpg', 'https://scontent-jnb1-1.cdninstagram.com/vp/e0501c7e698c7a5d23b0b1d342059af5/5C3FBCFE/t51.2885-15/e35/c0.78.1080.1080/s150x150/37592834_991108361048577_757538403158851584_n.jpg', 'https://scontent-jnb1-1.cdninstagram.com/vp/db05af2103f8d8894c84aca82aa96d56/5C46C084/t51.2885-15/e35/s150x150/37880192_248660145776360_4170268542672830464_n.jpg', 'https://scontent-jnb1-1.cdninstagram.com/vp/d78f924fac75c3c9a433d8cc155ff2a3/5C4BE2C7/t51.2885-15/e35/s150x150/38059707_2330640163822414_2124409009216684032_n.jpg', 'https://scontent-jnb1-1.cdninstagram.com/vp/b261bdb6afcb819cf7f5771cfa20073e/5BB5E3C7/t51.2885-15/e15/s150x150/37804370_271746890295106_4854766113520615424_n.jpg', 'https://scontent-jnb1-1.cdninstagram.com/vp/7328234ac4cc76f5f10f0d84cbd3866c/5BB5B6CB/t51.2885-15/e15/s150x150/36915558_894808653976880_19925658956201984_n.jpg']\n"
     ]
    }
   ],
   "source": [
    "image_urls = [img.get_attribute('src') for img in images]\n",
    "print(image_urls)"
   ]
  },
  {
   "cell_type": "code",
   "execution_count": 8,
   "metadata": {},
   "outputs": [],
   "source": [
    "user_folder = create_save_path('./social_app/mirandakerr/')"
   ]
  },
  {
   "cell_type": "code",
   "execution_count": 9,
   "metadata": {},
   "outputs": [
    {
     "name": "stdout",
     "output_type": "stream",
     "text": [
      "11428694_1601769410084895_603684605_a.jpg\n",
      "38472116_2146193122307989_2842863978781081600_n.jpg\n",
      "36113694_1833101860332300_6003364158018420736_n.jpg\n",
      "30856109_594549537583963_704714600385347584_n.jpg\n",
      "28427451_152233998924776_2169938110685642752_n.jpg\n",
      "28157647_190995831663200_7192653053391011840_n.jpg\n",
      "40857333_2114128155273350_3852573192593059070_n.jpg\n",
      "41209575_333075437284322_4886950658244847958_n.jpg\n",
      "41151179_2127150017615600_4291171764799092066_n.jpg\n",
      "40779515_2115776625141876_6589210733090921037_n.jpg\n",
      "40720105_2254098408210359_445247838317923011_n.jpg\n",
      "40459430_705203503150284_2109813894301089792_n.jpg\n",
      "40448578_839156689623784_5567619118586134528_n.jpg\n",
      "39995666_236530543632101_1951766257518772224_n.jpg\n",
      "38618452_233646320630054_1239692956521201664_n.jpg\n",
      "37819167_1823610807726490_949088966693355520_n.jpg\n",
      "37900198_273251346594844_8681541094757892096_n.jpg\n",
      "38097386_338053000067556_2949588341219131392_n.jpg\n",
      "38295541_224298968233649_823911225728434176_n.jpg\n",
      "38007424_1284320548371153_3841507157149220864_n.jpg\n",
      "37778738_288539395030603_2547414119087079424_n.jpg\n",
      "37862059_907539766113869_8566962276517543936_n.jpg\n",
      "38184082_274880106577608_169512850115526656_n.jpg\n",
      "37685511_420200895168413_1486606726537936896_n.jpg\n",
      "37592487_301903137033161_1208270039480795136_n.jpg\n",
      "37592834_991108361048577_757538403158851584_n.jpg\n",
      "37880192_248660145776360_4170268542672830464_n.jpg\n",
      "38059707_2330640163822414_2124409009216684032_n.jpg\n",
      "37804370_271746890295106_4854766113520615424_n.jpg\n",
      "36915558_894808653976880_19925658956201984_n.jpg\n",
      "done!\n"
     ]
    }
   ],
   "source": [
    "for image in image_urls:\n",
    "    requests_image(image, \"./social_app/mirandakerr/\")\n",
    "print(\"done!\")"
   ]
  }
 ],
 "metadata": {
  "kernelspec": {
   "display_name": "Python 3",
   "language": "python",
   "name": "python3"
  },
  "language_info": {
   "codemirror_mode": {
    "name": "ipython",
    "version": 3
   },
   "file_extension": ".py",
   "mimetype": "text/x-python",
   "name": "python",
   "nbconvert_exporter": "python",
   "pygments_lexer": "ipython3",
   "version": "3.6.5"
  }
 },
 "nbformat": 4,
 "nbformat_minor": 2
}
